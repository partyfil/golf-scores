{
 "cells": [
  {
   "cell_type": "code",
   "execution_count": 2,
   "id": "9a8c51e9",
   "metadata": {},
   "outputs": [],
   "source": [
    "import requests\n",
    "from bs4 import BeautifulSoup\n",
    "import json\n",
    "import pandas as pd\n"
   ]
  },
  {
   "cell_type": "code",
   "execution_count": 3,
   "id": "00b40515",
   "metadata": {},
   "outputs": [],
   "source": [
    "\n",
    "\n",
    "# URL of the page you want to scrape\n",
    "url = \"https://sports.yahoo.com/golf/european-tour/2025/masters-tournament/\"\n",
    "\n",
    "# Fetch the page's HTML\n",
    "response = requests.get(url)\n",
    "html_content = response.text\n"
   ]
  },
  {
   "cell_type": "code",
   "execution_count": 4,
   "id": "838d2c09",
   "metadata": {},
   "outputs": [
    {
     "name": "stdout",
     "output_type": "stream",
     "text": [
      "{\"0\":{\"display_name\":\"Rory McIlroy\",\"position\":\"1\",\"home_url\":\"\\u002Fgolf\\u002Fplayers\\u002FRory+Mcilroy\\u002F8016\\u002F\",\"last_name\":\"McIlroy\",\"results\":{\"0\":{\"round\":{\"cut_reason\":null,\"made_cut\":\"true\",\"strokes\":\"72\",\"tee_time\":\"2025-04-10 17:12:00\",\"to_par\":\"E\"}\n"
     ]
    }
   ],
   "source": [
    "# Find the position of the \"competitors\" key in the HTML\n",
    "start_index = html_content.find('\"leaderboard\":')\n",
    "\n",
    "if start_index == -1:\n",
    "    print(\"Competitors data not found\")\n",
    "else:\n",
    "    # Find the position of the opening bracket '['\n",
    "    start_index = html_content.find('{', start_index)\n",
    "    # Find the position of the closing bracket ']'\n",
    "    end_index = html_content.find('}', start_index) + 1\n",
    "\n",
    "    # Extract the string representing the competitors data\n",
    "    competitors_str = html_content[start_index:end_index]\n",
    "    print(competitors_str)\n"
   ]
  },
  {
   "cell_type": "code",
   "execution_count": 5,
   "id": "4bdbfc2d",
   "metadata": {},
   "outputs": [
    {
     "name": "stdout",
     "output_type": "stream",
     "text": [
      "                            Pos                 Name  R1  R2  R3  R4 Today  \\\n",
      "0             Rory McIlroy    1         Rory McIlroy  72  66  66        -6   \n",
      "1        Bryson DeChambeau    2    Bryson DeChambeau  69  68  69        -3   \n",
      "2            Corey Conners    3        Corey Conners  68  70  70        -2   \n",
      "3             Patrick Reed   T4         Patrick Reed  71  70  69        -3   \n",
      "4             Ludvig Aberg   T4         Ludvig Aberg  68  73  69        -3   \n",
      ".. ..                  ...  ...                  ...  ..  ..  ..  ..   ...   \n",
      "90     Jose Luis Ballester  T89  Jose Luis Ballester  76  MC  MC  MC     -   \n",
      "91           Angel Cabrera  T92        Angel Cabrera  75  MC  MC  MC     -   \n",
      "92       Thriston Lawrence  T92    Thriston Lawrence  79  MC  MC  MC     -   \n",
      "93               Noah Kent  T92            Noah Kent  79  MC  MC  MC     -   \n",
      "94             Nick Dunlap   95          Nick Dunlap  90  MC  MC  MC     -   \n",
      "\n",
      "   Thru Total Strokes  \n",
      "0     F   -12     204  \n",
      "1     F   -10     206  \n",
      "2     F    -8     208  \n",
      "3     F    -6     210  \n",
      "4     F    -6     210  \n",
      "..  ...   ...     ...  \n",
      "90    -    10     154  \n",
      "91    -    11     155  \n",
      "92    -    11     155  \n",
      "93    -    11     155  \n",
      "94    -    17     161  \n",
      "\n",
      "[95 rows x 12 columns]\n"
     ]
    }
   ],
   "source": [
    "# Parse the HTML content using BeautifulSoup\n",
    "soup = BeautifulSoup(html_content, 'html.parser')\n",
    "\n",
    "# Find the table in the HTML\n",
    "table = soup.find('table')\n",
    "\n",
    "if table:\n",
    "    # Extract table headers\n",
    "    headers = [header.text.strip() for header in table.find_all('th')]\n",
    "\n",
    "    # Extract table rows\n",
    "    rows = []\n",
    "    for row in table.find_all('tr'):\n",
    "        cells = row.find_all('td')\n",
    "        if cells:\n",
    "            rows.append([cell.text.strip() for cell in cells])\n",
    "\n",
    "    # Create a DataFrame from the table data\n",
    "    df_table = pd.DataFrame(rows, columns=headers)\n",
    "    print(df_table)\n",
    "else:\n",
    "    print(\"No table found on the page\")"
   ]
  },
  {
   "cell_type": "code",
   "execution_count": 22,
   "id": "0b09326e",
   "metadata": {},
   "outputs": [
    {
     "name": "stdout",
     "output_type": "stream",
     "text": [
      "                            Pos                 Name  R1  R2  R3  R4 Today  \\\n",
      "0             Rory McIlroy    1         Rory McIlroy  72  66  66        -6   \n",
      "1        Bryson DeChambeau    2    Bryson DeChambeau  69  68  69        -3   \n",
      "2            Corey Conners    3        Corey Conners  68  70  70        -2   \n",
      "3             Patrick Reed   T4         Patrick Reed  71  70  69        -3   \n",
      "4             Ludvig Aberg   T4         Ludvig Aberg  68  73  69        -3   \n",
      ".. ..                  ...  ...                  ...  ..  ..  ..  ..   ...   \n",
      "90     Jose Luis Ballester  T89  Jose Luis Ballester  76  MC  MC  MC     -   \n",
      "91           Angel Cabrera  T92        Angel Cabrera  75  MC  MC  MC     -   \n",
      "92       Thriston Lawrence  T92    Thriston Lawrence  79  MC  MC  MC     -   \n",
      "93               Noah Kent  T92            Noah Kent  79  MC  MC  MC     -   \n",
      "94             Nick Dunlap   95          Nick Dunlap  90  MC  MC  MC     -   \n",
      "\n",
      "   Thru  Total Strokes  \n",
      "0     F  -12.0     204  \n",
      "1     F  -10.0     206  \n",
      "2     F   -8.0     208  \n",
      "3     F   -6.0     210  \n",
      "4     F   -6.0     210  \n",
      "..  ...    ...     ...  \n",
      "90    -   10.0     154  \n",
      "91    -   11.0     155  \n",
      "92    -   11.0     155  \n",
      "93    -   11.0     155  \n",
      "94    -   17.0     161  \n",
      "\n",
      "[95 rows x 12 columns]\n"
     ]
    }
   ],
   "source": [
    "# Convert the 'Total' column to integer type\n",
    "df_table['Total'] = pd.to_numeric(df_table['Total'], errors='coerce')\n",
    "\n",
    "# Display the updated DataFrame\n",
    "print(df_table)"
   ]
  },
  {
   "cell_type": "code",
   "execution_count": 23,
   "id": "b7faf30a",
   "metadata": {},
   "outputs": [
    {
     "name": "stdout",
     "output_type": "stream",
     "text": [
      "Adam Team:\n",
      "                         Pos               Name  R1  R2  R3  R4 Today Thru  \\\n",
      "3          Patrick Reed   T4       Patrick Reed  71  70  69        -3    F   \n",
      "8     Scottie Scheffler   T6  Scottie Scheffler  68  71  72         E    F   \n",
      "33      Tommy Fleetwood  T30    Tommy Fleetwood  73  69  75         3    F   \n",
      "46      Patrick Cantlay  T42    Patrick Cantlay  74  72  73         1    F   \n",
      "47        Justin Thomas  T48      Justin Thomas  73  71  76         4    F   \n",
      "57       Dustin Johnson  T54     Dustin Johnson  74  MC  MC  MC     -    -   \n",
      "69        Brooks Koepka  T67      Brooks Koepka  74  MC  MC  MC     -    -   \n",
      "84       Will Zalatoris  T82     Will Zalatoris  74  MC  MC  MC     -    -   \n",
      "\n",
      "    Total Strokes  \n",
      "3    -6.0     210  \n",
      "8    -5.0     211  \n",
      "33    1.0     217  \n",
      "46    3.0     219  \n",
      "47    4.0     220  \n",
      "57    3.0     147  \n",
      "69    5.0     149  \n",
      "84    8.0     152  \n"
     ]
    }
   ],
   "source": [
    "# Define the players for each team\n",
    "adam_team_players = [\n",
    "    \"Scottie Scheffler\", \"Justin Thomas\", \"Brooks Koepka\", \"Patrick Cantlay\",\n",
    "    \"Tommy Fleetwood\", \"Will Zalatoris\", \"Dustin Johnson\", \"Patrick Reed\"\n",
    "]\n",
    "phil_team_players = [\n",
    "    \"Rory McIlroy\", \"Ludvig Aberg\", \"Hideki Matsuyama\", \"Akshay Bhatia\",\n",
    "    \"Min Woo Lee\", \"Robert Macintyre\", \"Tony Finau\", \"Wyndham Clark\"\n",
    "]\n",
    "jordan_team_players = [\n",
    "    \"Collin Morikawa\", \"Xander Schauffele\", \"Cameron Smith\", \"Sepp Straka\",\n",
    "    \"Tyrrell Hatton\", \"Russell Henley\", \"Nicolai Hojgaard\", \"Sahith Theegala\"\n",
    "]\n",
    "steve_team_players = [\n",
    "    \"Jon Rahm\", \"Bryson DeChambeau\", \"Joaquin Niemann\", \"Jordan Spieth\",\n",
    "    \"Shane Lowry\", \"Viktor Hovland\", \"Corey Conners\", \"Jason Day\"\n",
    "]\n",
    "\n",
    "# Filter the data for each team\n",
    "adam_team = df_table[df_table['Name'].isin(adam_team_players)]\n",
    "phil_team = df_table[df_table['Name'].isin(phil_team_players)]\n",
    "jordan_team = df_table[df_table['Name'].isin(jordan_team_players)]\n",
    "steve_team = df_table[df_table['Name'].isin(steve_team_players)]\n",
    "\n",
    "# Display the data frames\n",
    "print(\"Adam Team:\")\n",
    "print(adam_team)\n"
   ]
  },
  {
   "cell_type": "code",
   "execution_count": 24,
   "id": "200454ff",
   "metadata": {},
   "outputs": [
    {
     "name": "stdout",
     "output_type": "stream",
     "text": [
      "\n",
      "Phil Team:\n",
      "                        Pos              Name  R1  R2  R3  R4 Today Thru  \\\n",
      "0         Rory McIlroy    1      Rory McIlroy  72  66  66        -6    F   \n",
      "4         Ludvig Aberg   T4      Ludvig Aberg  68  73  69        -3    F   \n",
      "43       Wyndham Clark  T42     Wyndham Clark  76  68  75         3    F   \n",
      "48    Hideki Matsuyama  T48  Hideki Matsuyama  73  68  79         7    F   \n",
      "50         Min Woo Lee  T48       Min Woo Lee  71  72  77         5    F   \n",
      "52       Akshay Bhatia  T52     Akshay Bhatia  70  76  75         3    F   \n",
      "61          Tony Finau  T59        Tony Finau  75  MC  MC  MC     -    -   \n",
      "75    Robert Macintyre  T73  Robert Macintyre  75  MC  MC  MC     -    -   \n",
      "\n",
      "    Total Strokes  \n",
      "0   -12.0     204  \n",
      "4    -6.0     210  \n",
      "43    3.0     219  \n",
      "48    4.0     220  \n",
      "50    4.0     220  \n",
      "52    5.0     221  \n",
      "61    4.0     148  \n",
      "75    6.0     150  \n"
     ]
    }
   ],
   "source": [
    "print(\"\\nPhil Team:\")\n",
    "print(phil_team)\n"
   ]
  },
  {
   "cell_type": "code",
   "execution_count": 25,
   "id": "30229890",
   "metadata": {},
   "outputs": [
    {
     "name": "stdout",
     "output_type": "stream",
     "text": [
      "\n",
      "Jordan Team:\n",
      "                         Pos               Name  R1  R2  R3  R4 Today Thru  \\\n",
      "12    Xander Schauffele  T10  Xander Schauffele  73  69  70        -2    F   \n",
      "14      Collin Morikawa  T14    Collin Morikawa  72  69  72         E    F   \n",
      "16       Tyrrell Hatton  T17     Tyrrell Hatton  69  70  75         3    F   \n",
      "31      Sahith Theegala  T30    Sahith Theegala  72  72  73         1    F   \n",
      "55       Russell Henley  T54     Russell Henley  79  MC  MC  MC     -    -   \n",
      "70        Cameron Smith  T67      Cameron Smith  71  MC  MC  MC     -    -   \n",
      "71          Sepp Straka  T67        Sepp Straka  78  MC  MC  MC     -    -   \n",
      "74     Nicolai Hojgaard  T73   Nicolai Hojgaard  76  MC  MC  MC     -    -   \n",
      "\n",
      "    Total Strokes  \n",
      "12   -4.0     212  \n",
      "14   -3.0     213  \n",
      "16   -2.0     214  \n",
      "31    1.0     217  \n",
      "55    3.0     147  \n",
      "70    5.0     149  \n",
      "71    5.0     149  \n",
      "74    6.0     150  \n"
     ]
    }
   ],
   "source": [
    "print(\"\\nJordan Team:\")\n",
    "print(jordan_team)\n"
   ]
  },
  {
   "cell_type": "code",
   "execution_count": 26,
   "id": "6a33b669",
   "metadata": {},
   "outputs": [
    {
     "name": "stdout",
     "output_type": "stream",
     "text": [
      "\n",
      "Steve Team:\n",
      "                         Pos               Name  R1  R2  R3 R4 Today Thru  \\\n",
      "1     Bryson DeChambeau    2  Bryson DeChambeau  69  68  69       -3    F   \n",
      "2         Corey Conners    3      Corey Conners  68  70  70       -2    F   \n",
      "6             Jason Day   T6          Jason Day  70  70  71       -1    F   \n",
      "7           Shane Lowry   T6        Shane Lowry  71  68  72        E    F   \n",
      "15       Viktor Hovland  T14     Viktor Hovland  71  69  73        1    F   \n",
      "23        Jordan Spieth  T21      Jordan Spieth  73  73  69       -3    F   \n",
      "27             Jon Rahm  T25           Jon Rahm  75  71  70       -2    F   \n",
      "28      Joaquin Niemann  T25    Joaquin Niemann  72  74  70       -2    F   \n",
      "\n",
      "    Total Strokes  \n",
      "1   -10.0     206  \n",
      "2    -8.0     208  \n",
      "6    -5.0     211  \n",
      "7    -5.0     211  \n",
      "15   -3.0     213  \n",
      "23   -1.0     215  \n",
      "27    NaN     216  \n",
      "28    NaN     216  \n"
     ]
    }
   ],
   "source": [
    "print(\"\\nSteve Team:\")\n",
    "print(steve_team)"
   ]
  },
  {
   "cell_type": "code",
   "execution_count": 29,
   "id": "28717f7a",
   "metadata": {},
   "outputs": [
    {
     "name": "stdout",
     "output_type": "stream",
     "text": [
      "     Name  Total Score\n",
      "0   Steve        -31.0\n",
      "1    Phil         -7.0\n",
      "2  Jordan         -5.0\n",
      "3    Adam         -4.0\n"
     ]
    }
   ],
   "source": [
    "# Calculate the total of the 5 lowest scores for each team\n",
    "adam_total = adam_team['Total'].nsmallest(5).sum()\n",
    "phil_total = phil_team['Total'].nsmallest(5).sum()\n",
    "jordan_total = jordan_team['Total'].nsmallest(5).sum()\n",
    "steve_total = steve_team['Total'].nsmallest(5).sum()\n",
    "\n",
    "# Create a new DataFrame with the results\n",
    "team_totals = pd.DataFrame({\n",
    "    'Name': ['Adam', 'Phil', 'Jordan', 'Steve'],\n",
    "    'Total Score': [adam_total, phil_total, jordan_total, steve_total]\n",
    "})\n",
    "\n",
    "# Sort the DataFrame by Total Score in ascending order\n",
    "team_totals = team_totals.sort_values(by='Total Score', ascending=True).reset_index(drop=True)\n",
    "\n",
    "# Display the new DataFrame\n",
    "print(team_totals)"
   ]
  },
  {
   "cell_type": "code",
   "execution_count": 30,
   "id": "5a3f8f04",
   "metadata": {},
   "outputs": [
    {
     "name": "stdout",
     "output_type": "stream",
     "text": [
      "HTML files have been created. Upload them to a GitHub repository and enable GitHub Pages to display them.\n"
     ]
    }
   ],
   "source": [
    "# Save the dataframes as HTML files\n",
    "team_totals.to_html(\"team_totals.html\", index=False)\n",
    "adam_team.to_html(\"adam_team.html\", index=False)\n",
    "phil_team.to_html(\"phil_team.html\", index=False)\n",
    "jordan_team.to_html(\"jordan_team.html\", index=False)\n",
    "steve_team.to_html(\"steve_team.html\", index=False)\n",
    "\n",
    "print(\"HTML files have been created. Upload them to a GitHub repository and enable GitHub Pages to display them.\")"
   ]
  }
 ],
 "metadata": {
  "kernelspec": {
   "display_name": "Python 3",
   "language": "python",
   "name": "python3"
  },
  "language_info": {
   "codemirror_mode": {
    "name": "ipython",
    "version": 3
   },
   "file_extension": ".py",
   "mimetype": "text/x-python",
   "name": "python",
   "nbconvert_exporter": "python",
   "pygments_lexer": "ipython3",
   "version": "3.12.1"
  }
 },
 "nbformat": 4,
 "nbformat_minor": 5
}
